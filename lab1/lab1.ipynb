{
 "cells": [
  {
   "cell_type": "markdown",
   "metadata": {},
   "source": [
    "# ELEC3404 Lab 1\n",
    "\n",
    "## Introduction and Operational Amplifier"
   ]
  },
  {
   "cell_type": "markdown",
   "metadata": {},
   "source": [
    "### 1. Non-Inverting Amplifier\n",
    "\n",
    "Construct the following circuit:\n",
    "\n",
    "<img src=\"noninvamp.png\" width=45% />\n",
    "\n",
    "#### Theory\n",
    "\n",
    "Assuming an ideal op-amp, nodal analysis at the input terminals give:\n",
    "\n",
    "$$ i =  \\frac {v_{in} - v_{out}} {10k} = - \\frac {v_{in}} {10k} \\implies v_{out} = 2 v_{in} $$"
   ]
  },
  {
   "cell_type": "markdown",
   "metadata": {},
   "source": [
    "### 2. Inverting Amplifier\n",
    "\n",
    "Construct the following circuit:\n",
    "\n",
    "<img src=\"invamp.png\" width=50%>\n",
    "\n",
    "Measure the voltage gain at a frequency of $1\\textrm{ kHz}$. Record both the input and output waveforms in the same graph, and indicate the phase shift between them. Compare the measurements with the calculated results and comment on them. \n",
    "\n",
    "Measure both the higher and lower $3\\textrm{ dB}$ frequency for the amplifier.\n",
    "\n",
    "#### Theory\n",
    "\n",
    "Nodal analysis at the input ternimal gives us:\n",
    "\n",
    "$$ i_{in} = \\frac {v_{in}} {1k} = - \\frac {v_{out}} {10k} $$"
   ]
  },
  {
   "cell_type": "markdown",
   "metadata": {},
   "source": [
    "### 3. Summing Circuit\n",
    "\n"
   ]
  },
  {
   "cell_type": "markdown",
   "metadata": {},
   "source": [
    "### 4. Voltage Follower/Buffer\n",
    "\n"
   ]
  },
  {
   "cell_type": "code",
   "execution_count": null,
   "metadata": {
    "collapsed": true
   },
   "outputs": [],
   "source": []
  }
 ],
 "metadata": {
  "kernelspec": {
   "display_name": "Julia 0.4.2",
   "language": "julia",
   "name": "julia-0.4"
  },
  "language_info": {
   "file_extension": ".jl",
   "mimetype": "application/julia",
   "name": "julia",
   "version": "0.4.2"
  }
 },
 "nbformat": 4,
 "nbformat_minor": 0
}
