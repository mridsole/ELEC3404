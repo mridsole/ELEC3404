{
 "cells": [
  {
   "cell_type": "markdown",
   "metadata": {},
   "source": [
    "# ELEC3404 Tutorial 1"
   ]
  },
  {
   "cell_type": "code",
   "execution_count": 16,
   "metadata": {
    "collapsed": false,
    "scrolled": false
   },
   "outputs": [
    {
     "name": "stdout",
     "output_type": "stream",
     "text": [
      "{\"key\":\"f4bd2329-212e-492c-8de7-ab70d8ff484f\",\"transport\":\"tcp\",\"signature_scheme\":\"hmac-sha256\",\"shell_port\":37534,\"hb_port\":38521,\"control_port\":53915,\"ip\":\"127.0.0.1\",\"stdin_port\":58264,\"iopub_port\":43710}"
     ]
    }
   ],
   "source": [
    "using IJulia \n",
    "import JSON\n",
    "import SymPy; s = SymPy\n",
    "IJulia.profile |> JSON.json |> print\n",
    "\n",
    "# terse value with units printing\n",
    "macro dispval(val, unit)\n",
    "    return :( println($(string(val)), \": \", $val, \" \", $unit) )\n",
    "end\n",
    "\n",
    "# display a symbol = expr equation\n",
    "function dispeqn(sym::ASCIIString, expr)\n",
    "    s.Eq(s.symbols(sym), expr) |> display\n",
    "end\n",
    "\n",
    ";"
   ]
  },
  {
   "cell_type": "markdown",
   "metadata": {},
   "source": [
    "### Question 1\n",
    "\n",
    "<img src=\"q1.png\">\n",
    "\n",
    "**For the op-amp circuit shown,**\n",
    "- ** a. Derive the transfer function.**\n",
    "- ** b. What mathematical function does it perform? **"
   ]
  },
  {
   "cell_type": "markdown",
   "metadata": {},
   "source": [
    "#### Solution\n",
    "\n",
    "Assuming the the amplifier is ideal, then:\n",
    "* the voltages at the + and - terminals are the same (say $0$, since it's connected to ground)\n",
    "* the at both input terminals is $0$.\n",
    "\n",
    "Then:\n",
    "\n",
    "$$ \\frac {v_1} {R_1} + \\frac {v_2} {R_2} = -\\frac {v_{out}} {R_F} \\implies v_{out} = -R_F ( \\frac {v_1} {R_1} + \\frac {v_2} {R_2} ) $$\n",
    "\n",
    "So the op-amp performs inverted addition, weighted inversely by the resistors $R_1$ and $R_2$.\n",
    "\n",
    "(how to do 2D transfer function?)"
   ]
  },
  {
   "cell_type": "markdown",
   "metadata": {},
   "source": [
    "### Question 2\n",
    "\n",
    "** For the op-amp circuit shown, **\n",
    "- ** a. What does the circuit do? **\n",
    "- ** b. Derive it's transfer function. **\n",
    "- ** c. Compare to its digital equivalent circuit, which one is more efficient? Why? **\n",
    "- ** d. What is the time constant of the circuit? **\n",
    "- ** e. What is the problem with this circuit in practice and how can it be fixed? **"
   ]
  },
  {
   "cell_type": "markdown",
   "metadata": {},
   "source": [
    "**a.** The circuit integrates the input signal over time. "
   ]
  },
  {
   "cell_type": "markdown",
   "metadata": {},
   "source": [
    "**b.** Let the voltage at the input terminals be 0 (since the positive terminal is at ground). Then, using nodal analysis:\n",
    "\n",
    "$$ \\frac {v_{in}} {R} + \\frac {v_{out}} {Z_C} = 0 $$\n",
    "\n",
    "where $Z_C$ is the impedance of the capacitor - so:\n",
    "\n",
    "$$ \\frac {v_{in}} {R} + v_{out} s C = 0 $$\n",
    "\n",
    "so the transfer function is:\n",
    "\n",
    "$$ H(s) = - \\frac {1} {sRC} $$"
   ]
  },
  {
   "cell_type": "markdown",
   "metadata": {},
   "source": [
    "**c.** In terms of components used and overall simplicity, this circuit is far more efficient than the digital equivalent."
   ]
  },
  {
   "cell_type": "markdown",
   "metadata": {},
   "source": [
    "**d.** The time constant is $RC$."
   ]
  },
  {
   "cell_type": "markdown",
   "metadata": {},
   "source": [
    "**e.** The circuit deviates from it's desired integrator functionality at both low and high frequencies. \n",
    "\n",
    "If the input signal is a constant voltage input (or a very low frequency signal), then the capacitor would continue to charge indefinitely - but physically, this is impossible.\n",
    "\n",
    "If the frequency of the input signal is very high, the op-amp won't work properly."
   ]
  },
  {
   "cell_type": "markdown",
   "metadata": {},
   "source": [
    "### Question 3\n",
    "\n",
    "**For the circuit shown: **\n",
    "- **a. Find the transfer function**\n",
    "- **b. Consider the effects if the resistors R are not matched**\n",
    "\n",
    "<img src=\"http://i.imgur.com/1reGyRZ.png\" width=40%/>\n",
    "\n",
    "The circuit is a differential amplifier. Nodal analysis at the input terminals (solving with sympy):"
   ]
  },
  {
   "cell_type": "code",
   "execution_count": 2,
   "metadata": {
    "collapsed": false
   },
   "outputs": [
    {
     "data": {
      "text/latex": [
       "$$V_{out} = \\frac{R_{F}}{R} \\left(V_{in+} - V_{in-}\\right)$$"
      ],
      "text/plain": [
       "        R_F⋅(V_in+ - V_in-)\n",
       "V_out = ───────────────────\n",
       "                 R         "
      ]
     },
     "execution_count": 2,
     "metadata": {},
     "output_type": "execute_result"
    }
   ],
   "source": [
    "# our symbolic variables\n",
    "R, R_F, V, V_inp, V_inm, V_out = s.symbols(\"R R_F V V_in+ V_in- V_out\")\n",
    "\n",
    "# the nodal analysis equations (eqn = 0)\n",
    "eqn1 = (V_inm - V) / R - (V - V_out) / R_F\n",
    "eqn2 = (V_inp - V) / R - V / R_F\n",
    "\n",
    "# solve the equations for V and V_out (with the other variables fixed)\n",
    "soln = s.solve([eqn1, eqn2], [V, V_out])\n",
    "\n",
    "# print out an equation\n",
    "s.Eq(V_out, soln[V_out])"
   ]
  },
  {
   "cell_type": "markdown",
   "metadata": {},
   "source": [
    "So the transfer function is (how to do freq domain with 2 inputs?):\n",
    "\n",
    "$$ V_{out} = \\frac {R_F} {R} (V_{in+} - V_{in-}) $$\n",
    "\n",
    "So the circuit takes the difference of the inputs and multiplies it by $ R_F / R $.\n",
    "\n",
    "If the resistors $R$ are different, say $R_1$ and $R_2$:"
   ]
  },
  {
   "cell_type": "code",
   "execution_count": 3,
   "metadata": {
    "collapsed": false
   },
   "outputs": [
    {
     "data": {
      "text/latex": [
       "$$V_{out} = \\frac{R_{F}}{R_{2} \\left(R_{1} + R_{F}\\right)} \\left(V_{in+} \\left(R_{2} + R_{F}\\right) - V_{in-} \\left(R_{1} + R_{F}\\right)\\right)$$"
      ],
      "text/plain": [
       "        R_F⋅(V_in+⋅(R₂ + R_F) - V_in-⋅(R₁ + R_F))\n",
       "V_out = ─────────────────────────────────────────\n",
       "                      R₂⋅(R₁ + R_F)              "
      ]
     },
     "execution_count": 3,
     "metadata": {},
     "output_type": "execute_result"
    }
   ],
   "source": [
    "# the symbolic variables\n",
    "R_1, R_2, R_F, V, V_inp, V_inm, V_out = s.symbols(\"R_1 R_2 R_F V V_in+ V_in- V_out\")\n",
    "\n",
    "# the nodal analysis equations\n",
    "eqn1 = (V_inp - V) / R_1 - V / R_F\n",
    "eqn2 = (V_inm - V) / R_2 - (V - V_out) / R_F\n",
    "\n",
    "# solve the equations for V and V_out\n",
    "soln = s.solve([eqn1, eqn2], [V, V_out])\n",
    "\n",
    "# print out solution\n",
    "s.Eq(V_out, soln[V_out] |> s.simplify)"
   ]
  },
  {
   "cell_type": "markdown",
   "metadata": {},
   "source": [
    "So the transfer function is considerably more complicated - but there's still some kind of weighted subtraction going on."
   ]
  },
  {
   "cell_type": "markdown",
   "metadata": {},
   "source": [
    "### Question 4\n",
    "\n",
    "**An operational amplifier as finite open-loop gain, A (so that $ V_{out} = A(V_{i+} - V_{i-}) $). Consider using this op-amp as a non-inverting amplifier.**\n",
    "- **a. Draw the non-inverting op-amp circuit, labelling $V_{in}$ and $V_{out}$.**\n",
    "- **b. Derive the closed-loop voltage gain, $V_{out}/V_{in}$, in terms of $A$.**\n",
    "- **c. What is the effect of *finite* open-loop gain when compared with *infinite* open loop gain (i.e. $A \\rightarrow \\infty$)?**"
   ]
  },
  {
   "cell_type": "markdown",
   "metadata": {},
   "source": [
    "**a.**\n",
    "\n",
    "<img src=\"q4a.png\" width=35% />\n",
    "\n",
    "**b.**\n",
    "\n",
    "$$ V_{out} = A(V_{i+} - V_{i-}) \\implies v = v_{in} - \\frac {v_{out}} {A} $$\n",
    "\n",
    "and, doing nodal analysis at $v$,\n",
    "\n",
    "$$ \\frac {v_{out} - v} {R_f} = \\frac {v} {R_1} $$\n",
    "$$ \\implies v_{out} = v[1 + \\frac {R_f} {R_1}] = [v_{in} - \\frac {v_{out}} {A}][1 + \\frac {R_f} {R_1}] $$\n",
    "$$ v_{out}[1 + \\frac {1} {A} (1 + \\frac {R_f} {R_1})] = v_{in}[1 + \\frac {R_f} {R_1}] $$\n",
    "$$ \\frac {v_{out}} {v_{in}} = \\frac {1 + \\frac {R_f} {R_1}} {1 + \\frac {1} {A} (1 + \\frac {R_f} {R_1})} $$\n",
    "\n",
    "**c.**\n",
    "\n",
    "For a very large open loop gain $A$, the closed loop gain (the above expression) approaches the expected closed loop gain for an ideal op amp. As the open loop gain decreases, the closed loop gain decreases."
   ]
  },
  {
   "cell_type": "markdown",
   "metadata": {},
   "source": [
    "**5. For the circuit shown, find all the node voltages and the collector current, $I_C$. $V_B = 9 \\textrm{ V}$, $V_{CC} = 20 \\textrm{ V}$, $R_C = 5 \\textrm{ k}\\Omega$, $R_E = 4 \\textrm{ k}\\Omega$, and $\\beta = 100$.**\n",
    "\n",
    "<img src=\"q5.png\" />"
   ]
  },
  {
   "cell_type": "markdown",
   "metadata": {},
   "source": [
    "Assume the BJT is in forward active mode, so that $ I_C = \\beta I_B $.\n",
    "\n",
    "$$ \\frac {V_{CC} - V_C} {R_C} = \\beta I_B = I_B + \\frac {V_E} {R_E} $$\n",
    "\n",
    "There are three unknowns: $I_B$, $V_C$ and $V_E$. Since we're not given an $I_S$, we can't use $ I_C = I_S \\exp(\\frac {V_{BE}} {V_T}) $, so some assumption is needed - say $V_{BE} = 0.7 \\textrm{ V}$, so that:\n",
    "\n",
    "$$ V_E = V_B - 0.7 = 8.3 \\textrm{ V} $$"
   ]
  },
  {
   "cell_type": "code",
   "execution_count": 4,
   "metadata": {
    "collapsed": false
   },
   "outputs": [
    {
     "name": "stdout",
     "output_type": "stream",
     "text": [
      "I_C: 0.002095959595959596 A\n",
      "V_C: 9.52020202020202 V\n",
      "V_E: 8.3 V\n"
     ]
    }
   ],
   "source": [
    "# calculating the remaining values ...\n",
    "V_B = 9; V_CC = 20; R_C = 5e+3; R_E = 4e+3; β = 100; V_E = 8.3\n",
    "\n",
    "I_B = V_E / R_E / (β - 1)\n",
    "I_C = β * I_B\n",
    "V_C = V_CC - R_C * β * I_B\n",
    "\n",
    "@dispval(I_C, \"A\")\n",
    "@dispval(V_C, \"V\")\n",
    "@dispval(V_E, \"V\")"
   ]
  },
  {
   "cell_type": "markdown",
   "metadata": {},
   "source": [
    "The values are valid for the forward active region."
   ]
  },
  {
   "cell_type": "markdown",
   "metadata": {},
   "source": [
    "**6. Consider the circuit shown. Find all the node voltages and currents if $V_{CC} = 20 \\textrm{ V}$, $R_C = 5 \\textrm{ k}\\Omega$, $R_E = 4 \\textrm{ k}\\Omega$, $R_{B1} = 120 \\textrm{ k}\\Omega$, $R_{B2} = 40 \\textrm{ k}\\Omega$ and $\\beta = 100$.**\n",
    "\n",
    "<img src=\"q6.png\" />"
   ]
  },
  {
   "cell_type": "markdown",
   "metadata": {},
   "source": [
    "Assume the transistor is in the forward-active region. The procedure's mostly the same as for question 5 - without $I_S$, we require the same assumption ($V_{BE} = 0.7 \\textrm{ V}$), so just solve it with sympy:"
   ]
  },
  {
   "cell_type": "code",
   "execution_count": 5,
   "metadata": {
    "collapsed": false
   },
   "outputs": [
    {
     "name": "stdout",
     "output_type": "stream",
     "text": [
      "soln[V_B_]: 4.70276497695852 V\n",
      "soln[V_C_]: 15.0460829493088 V\n",
      "soln[V_E_]: 4.00276497695853 V\n",
      "soln[I_B_]: 9.90783410138249e-6 A\n",
      "soln[I_C_]: 0.000990783410138249 A\n"
     ]
    }
   ],
   "source": [
    "# constants / knowns\n",
    "V_CC = 20; R_C = 5e+3; R_E = 4e+3; R_B1 = 120e+3; R_B2 = 40e+3; β = 100; V_BE = 0.7\n",
    "\n",
    "# symbols:\n",
    "V_B_, V_C_, V_E_, I_B_, I_C_ = s.symbols(\"V_B V_C V_E I_B I_C\")\n",
    "\n",
    "# equations\n",
    "eqn1 = I_C_ - ( β * I_B_ )\n",
    "eqn2 = I_C_ - ( (V_CC - V_C_) / R_C )\n",
    "eqn3 = V_E_ - ( (I_B_ + I_C_) * R_E )\n",
    "eqn4 = I_B_ - ( (V_CC - V_B_) / R_B1 -  V_B_ / R_B2 )\n",
    "eqn5 = V_B_ - (V_E_ + V_BE)\n",
    "\n",
    "soln = s.solve([eqn1, eqn2, eqn3, eqn4, eqn5], [V_B_, V_C_, V_E_, I_B_, I_C_])\n",
    "\n",
    "@dispval(soln[V_B_], \"V\")\n",
    "@dispval(soln[V_C_], \"V\")\n",
    "@dispval(soln[V_E_], \"V\")\n",
    "@dispval(soln[I_B_], \"A\")\n",
    "@dispval(soln[I_C_], \"A\")"
   ]
  },
  {
   "cell_type": "markdown",
   "metadata": {},
   "source": [
    "The voltages are valid for the forward active region."
   ]
  },
  {
   "cell_type": "markdown",
   "metadata": {},
   "source": [
    "**7. Consider the circuit shown. Find all the node voltages and currents if $V_{CC} = 20 \\textrm{ V}$, $R_C = 5 \\textrm{ k}\\Omega$, $R_E = 4\\textrm{ k}\\Omega$, $R_{B1} = 120\\textrm{ k}\\Omega$, $R_{B2} = 40\\textrm{ k}\\Omega$, $R_{C2} = 3\\textrm{ k}\\Omega$, $R_{E2} = 3.3\\textrm{ k}\\Omega$, and $\\beta = 100$.**\n",
    "\n",
    "<img src=\"q7.png\" />"
   ]
  },
  {
   "cell_type": "markdown",
   "metadata": {},
   "source": [
    "Assume both transistors are in the forward active region, and assume $V_{BE1} = V_{EB2} = 0.7 \\textrm{ V}$."
   ]
  },
  {
   "cell_type": "code",
   "execution_count": 32,
   "metadata": {
    "collapsed": false
   },
   "outputs": [
    {
     "data": {
      "text/latex": [
       "\\begin{equation*}\\begin{cases}I_{B1} & \\text{=>} &1.0 \\cdot 10^{-5}\\\\V_{C1} & \\text{=>} &15.1128140703518\\\\V_{E2} & \\text{=>} &15.8128140703518\\\\V_{C2} & \\text{=>} &3.76884422110553\\\\V_{B1} & \\text{=>} &4.7\\\\V_{E1} & \\text{=>} &4.0\\\\I_{B2} & \\text{=>} &1.25628140703518 \\cdot 10^{-5}\\\\\\end{cases}\\end{equation*}"
      ],
      "text/plain": [
       "Dict{SymPy.Sym,SymPy.Sym} with 7 entries:\n",
       "  I_B1 => 1.00000000000000e-5\n",
       "  V_C1 => 15.1128140703518\n",
       "  V_E2 => 15.8128140703518\n",
       "  V_C2 => 3.76884422110553\n",
       "  V_B1 => 4.70000000000000\n",
       "  V_E1 => 4.00000000000000\n",
       "  I_B2 => 1.25628140703518e-5"
      ]
     },
     "metadata": {},
     "output_type": "display_data"
    },
    {
     "data": {
      "text/plain": [
       "\"V_B1\""
      ]
     },
     "execution_count": 32,
     "metadata": {},
     "output_type": "execute_result"
    }
   ],
   "source": [
    "# defining values ...\n",
    "V_CC = 20; R_C = 5e+3; R_E = 4e+3; R_B1 = 120e+3; R_B2 = 40e+3; R_C2 = 3e+3; R_E2 = 3.3e+3; β = 100\n",
    "\n",
    "# our symbolic variables\n",
    "V_B1_, V_C1_, V_E1_, V_C2_, V_E2_ = s.symbols(\"V_B1 V_C1 V_E1 V_C2 V_E2\")\n",
    "\n",
    "# some intermediate values ...\n",
    "I_B1_, I_B2_ = s.symbols(\"I_B1 I_B2\")\n",
    "\n",
    "# note: V_B2 = V_C1\n",
    "\n",
    "# EQUATIONS\n",
    "# nodal analysis at B1: \n",
    "eqn1 = (V_CC - V_B1_) / R_B1 - (V_B1_ / R_B2 + I_B1_)\n",
    "# T1 current relation:\n",
    "eqn2 = (V_CC - V_C1_) / R_C - (-I_B2_ + (β - 1) * I_B1_)\n",
    "# nodal analysis at E1:\n",
    "eqn3 = V_E1_ / R_E - (I_B1_ + (V_CC - V_C1_) / R_C + I_B2_)\n",
    "# T2 current relation:\n",
    "eqn4 = V_C2_ / R_C2 - β * I_B2_\n",
    "# nodal analysis at E2:\n",
    "eqn5 = (V_CC - V_E2_) / R_E2 - (I_B2_ + β * I_B2_)\n",
    "\n",
    "# V_BE = 0.7 relationship for T1\n",
    "eqn6 = V_B1_ - (V_E1_ + 0.7)\n",
    "# V_EB = 0.7 relationship for T2\n",
    "eqn7 = V_E2_ - (V_C1_ + 0.7)\n",
    "\n",
    "# display all our equations\n",
    "\n",
    "soln = s.solve([eqn1, eqn2, eqn3, eqn4, eqn5, eqn6, eqn7], [V_B1_, V_C1_, V_E1_, V_C2_, V_E2_, I_B1_, I_B2_])\n",
    "\n",
    "\n",
    "soln |> display"
   ]
  }
 ],
 "metadata": {
  "kernelspec": {
   "display_name": "Julia 0.4.2",
   "language": "julia",
   "name": "julia-0.4"
  },
  "language_info": {
   "file_extension": ".jl",
   "mimetype": "application/julia",
   "name": "julia",
   "version": "0.4.2"
  }
 },
 "nbformat": 4,
 "nbformat_minor": 0
}
