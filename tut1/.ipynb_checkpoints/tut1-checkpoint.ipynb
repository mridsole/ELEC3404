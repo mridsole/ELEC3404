{
 "cells": [
  {
   "cell_type": "markdown",
   "metadata": {},
   "source": [
    "# ELEC3404 Tutorial 1"
   ]
  },
  {
   "cell_type": "code",
   "execution_count": 1,
   "metadata": {
    "collapsed": false,
    "scrolled": false
   },
   "outputs": [
    {
     "name": "stdout",
     "output_type": "stream",
     "text": [
      "{\"key\":\"0a1fe14a-fcf0-4874-bd1d-e5e8fb240c57\",\"transport\":\"tcp\",\"signature_scheme\":\"hmac-sha256\",\"ip\":\"127.0.0.1\",\"hb_port\":38370,\"control_port\":39023,\"shell_port\":57334,\"stdin_port\":36703,\"iopub_port\":33302}"
     ]
    }
   ],
   "source": [
    "using IJulia \n",
    "import JSON\n",
    "import SymPy; s = SymPy\n",
    "IJulia.profile |> JSON.json |> print\n",
    "\n",
    "# terse value with units printing\n",
    "macro dispval(val, unit)\n",
    "    return :( println($(string(val)), \": \", $val, \" \", $unit) )\n",
    "end\n",
    "\n",
    "# display a symbol = expr equation\n",
    "function dispeqn(sym::ASCIIString, expr)\n",
    "    s.Eq(s.symbols(sym), expr) |> display\n",
    "end\n",
    "\n",
    "# display an eqn = 0 \n",
    "function dispeqn(expr)\n",
    "    s.Eq(expr, 0) |> display\n",
    "end\n",
    "\n",
    ";"
   ]
  },
  {
   "cell_type": "markdown",
   "metadata": {},
   "source": [
    "### Question 1\n",
    "\n",
    "<img src=\"q1.png\">\n",
    "\n",
    "**For the op-amp circuit shown,**\n",
    "- ** a. Derive the transfer function.**\n",
    "- ** b. What mathematical function does it perform? **"
   ]
  },
  {
   "cell_type": "markdown",
   "metadata": {},
   "source": [
    "#### Solution\n",
    "\n",
    "Assuming the the amplifier is ideal, then:\n",
    "* the voltages at the + and - terminals are the same (say $0$, since it's connected to ground)\n",
    "* the at both input terminals is $0$.\n",
    "\n",
    "Then:\n",
    "\n",
    "$$ \\frac {v_1} {R_1} + \\frac {v_2} {R_2} = -\\frac {v_{out}} {R_F} \\implies v_{out} = -R_F ( \\frac {v_1} {R_1} + \\frac {v_2} {R_2} ) $$\n",
    "\n",
    "So the op-amp performs inverted addition, weighted inversely by the resistors $R_1$ and $R_2$.\n",
    "\n",
    "(how to do 2D transfer function?)"
   ]
  },
  {
   "cell_type": "markdown",
   "metadata": {},
   "source": [
    "### Question 2\n",
    "\n",
    "** For the op-amp circuit shown, **\n",
    "- ** a. What does the circuit do? **\n",
    "- ** b. Derive it's transfer function. **\n",
    "- ** c. Compare to its digital equivalent circuit, which one is more efficient? Why? **\n",
    "- ** d. What is the time constant of the circuit? **\n",
    "- ** e. What is the problem with this circuit in practice and how can it be fixed? **"
   ]
  },
  {
   "cell_type": "markdown",
   "metadata": {},
   "source": [
    "**a.** The circuit integrates the input signal over time. "
   ]
  },
  {
   "cell_type": "markdown",
   "metadata": {},
   "source": [
    "**b.** Let the voltage at the input terminals be 0 (since the positive terminal is at ground). Then, using nodal analysis:\n",
    "\n",
    "$$ \\frac {v_{in}} {R} + \\frac {v_{out}} {Z_C} = 0 $$\n",
    "\n",
    "where $Z_C$ is the impedance of the capacitor - so:\n",
    "\n",
    "$$ \\frac {v_{in}} {R} + v_{out} s C = 0 $$\n",
    "\n",
    "so the transfer function is:\n",
    "\n",
    "$$ H(s) = - \\frac {1} {sRC} $$"
   ]
  },
  {
   "cell_type": "markdown",
   "metadata": {},
   "source": [
    "**c.** In terms of components used and overall simplicity, this circuit is far more efficient than the digital equivalent."
   ]
  },
  {
   "cell_type": "markdown",
   "metadata": {},
   "source": [
    "**d.** The time constant is $RC$."
   ]
  },
  {
   "cell_type": "markdown",
   "metadata": {},
   "source": [
    "**e.** The circuit deviates from it's desired integrator functionality at both low and high frequencies. \n",
    "\n",
    "If the input signal is a constant voltage input (or a very low frequency signal), then the capacitor would continue to charge indefinitely - but physically, this is impossible.\n",
    "\n",
    "If the frequency of the input signal is very high, the op-amp won't work properly."
   ]
  },
  {
   "cell_type": "markdown",
   "metadata": {},
   "source": [
    "### Question 3\n",
    "\n",
    "**For the circuit shown: **\n",
    "- **a. Find the transfer function**\n",
    "- **b. Consider the effects if the resistors R are not matched**\n",
    "\n",
    "<img src=\"http://i.imgur.com/1reGyRZ.png\" width=40%/>\n",
    "\n",
    "The circuit is a differential amplifier. Nodal analysis at the input terminals (solving with sympy):"
   ]
  },
  {
   "cell_type": "code",
   "execution_count": 2,
   "metadata": {
    "collapsed": false
   },
   "outputs": [
    {
     "data": {
      "text/latex": [
       "$$V_{out} = \\frac{R_{F}}{R} \\left(V_{in+} - V_{in-}\\right)$$"
      ],
      "text/plain": [
       "        R_F⋅(V_in+ - V_in-)\n",
       "V_out = ───────────────────\n",
       "                 R         "
      ]
     },
     "execution_count": 2,
     "metadata": {},
     "output_type": "execute_result"
    }
   ],
   "source": [
    "# our symbolic variables\n",
    "R, R_F, V, V_inp, V_inm, V_out = s.symbols(\"R R_F V V_in+ V_in- V_out\")\n",
    "\n",
    "# the nodal analysis equations (eqn = 0)\n",
    "eqn1 = (V_inm - V) / R - (V - V_out) / R_F\n",
    "eqn2 = (V_inp - V) / R - V / R_F\n",
    "\n",
    "# solve the equations for V and V_out (with the other variables fixed)\n",
    "soln = s.solve([eqn1, eqn2], [V, V_out])\n",
    "\n",
    "# print out an equation\n",
    "s.Eq(V_out, soln[V_out])"
   ]
  },
  {
   "cell_type": "markdown",
   "metadata": {},
   "source": [
    "So the transfer function is (how to do freq domain with 2 inputs?):\n",
    "\n",
    "$$ V_{out} = \\frac {R_F} {R} (V_{in+} - V_{in-}) $$\n",
    "\n",
    "So the circuit takes the difference of the inputs and multiplies it by $ R_F / R $.\n",
    "\n",
    "If the resistors $R$ are different, say $R_1$ and $R_2$:"
   ]
  },
  {
   "cell_type": "code",
   "execution_count": 3,
   "metadata": {
    "collapsed": false
   },
   "outputs": [
    {
     "data": {
      "text/latex": [
       "$$V_{out} = \\frac{R_{F}}{R_{2} \\left(R_{1} + R_{F}\\right)} \\left(V_{in+} \\left(R_{2} + R_{F}\\right) - V_{in-} \\left(R_{1} + R_{F}\\right)\\right)$$"
      ],
      "text/plain": [
       "        R_F⋅(V_in+⋅(R₂ + R_F) - V_in-⋅(R₁ + R_F))\n",
       "V_out = ─────────────────────────────────────────\n",
       "                      R₂⋅(R₁ + R_F)              "
      ]
     },
     "execution_count": 3,
     "metadata": {},
     "output_type": "execute_result"
    }
   ],
   "source": [
    "# the symbolic variables\n",
    "R_1, R_2, R_F, V, V_inp, V_inm, V_out = s.symbols(\"R_1 R_2 R_F V V_in+ V_in- V_out\")\n",
    "\n",
    "# the nodal analysis equations\n",
    "eqn1 = (V_inp - V) / R_1 - V / R_F\n",
    "eqn2 = (V_inm - V) / R_2 - (V - V_out) / R_F\n",
    "\n",
    "# solve the equations for V and V_out\n",
    "soln = s.solve([eqn1, eqn2], [V, V_out])\n",
    "\n",
    "# print out solution\n",
    "s.Eq(V_out, soln[V_out] |> s.simplify)"
   ]
  },
  {
   "cell_type": "markdown",
   "metadata": {},
   "source": [
    "So the transfer function is considerably more complicated - but there's still some kind of weighted subtraction going on."
   ]
  },
  {
   "cell_type": "markdown",
   "metadata": {},
   "source": [
    "### Question 4\n",
    "\n",
    "**An operational amplifier as finite open-loop gain, A (so that $ V_{out} = A(V_{i+} - V_{i-}) $). Consider using this op-amp as a non-inverting amplifier.**\n",
    "- **a. Draw the non-inverting op-amp circuit, labelling $V_{in}$ and $V_{out}$.**\n",
    "- **b. Derive the closed-loop voltage gain, $V_{out}/V_{in}$, in terms of $A$.**\n",
    "- **c. What is the effect of *finite* open-loop gain when compared with *infinite* open loop gain (i.e. $A \\rightarrow \\infty$)?**"
   ]
  },
  {
   "cell_type": "markdown",
   "metadata": {},
   "source": [
    "**a.**\n",
    "\n",
    "<img src=\"q4a.png\" width=35% />\n",
    "\n",
    "**b.**\n",
    "\n",
    "$$ V_{out} = A(V_{i+} - V_{i-}) \\implies v = v_{in} - \\frac {v_{out}} {A} $$\n",
    "\n",
    "and, doing nodal analysis at $v$,\n",
    "\n",
    "$$ \\frac {v_{out} - v} {R_f} = \\frac {v} {R_1} $$\n",
    "$$ \\implies v_{out} = v[1 + \\frac {R_f} {R_1}] = [v_{in} - \\frac {v_{out}} {A}][1 + \\frac {R_f} {R_1}] $$\n",
    "$$ v_{out}[1 + \\frac {1} {A} (1 + \\frac {R_f} {R_1})] = v_{in}[1 + \\frac {R_f} {R_1}] $$\n",
    "$$ \\frac {v_{out}} {v_{in}} = \\frac {1 + \\frac {R_f} {R_1}} {1 + \\frac {1} {A} (1 + \\frac {R_f} {R_1})} $$\n",
    "\n",
    "**c.**\n",
    "\n",
    "For a very large open loop gain $A$, the closed loop gain (the above expression) approaches the expected closed loop gain for an ideal op amp. As the open loop gain decreases, the closed loop gain decreases."
   ]
  },
  {
   "cell_type": "markdown",
   "metadata": {},
   "source": [
    "**5. For the circuit shown, find all the node voltages and the collector current, $I_C$. $V_B = 9 \\textrm{ V}$, $V_{CC} = 20 \\textrm{ V}$, $R_C = 5 \\textrm{ k}\\Omega$, $R_E = 4 \\textrm{ k}\\Omega$, and $\\beta = 100$.**\n",
    "\n",
    "<img src=\"q5.png\" />"
   ]
  },
  {
   "cell_type": "markdown",
   "metadata": {},
   "source": [
    "Assume the BJT is in forward active mode, so that $ I_C = \\beta I_B $.\n",
    "\n",
    "$$ \\frac {V_{CC} - V_C} {R_C} = \\beta I_B = I_B + \\frac {V_E} {R_E} $$\n",
    "\n",
    "There are three unknowns: $I_B$, $V_C$ and $V_E$. Since we're not given an $I_S$, we can't use $ I_C = I_S \\exp(\\frac {V_{BE}} {V_T}) $, so some assumption is needed - say $V_{BE} = 0.7 \\textrm{ V}$, so that:\n",
    "\n",
    "$$ V_E = V_B - 0.7 = 8.3 \\textrm{ V} $$"
   ]
  },
  {
   "cell_type": "code",
   "execution_count": 4,
   "metadata": {
    "collapsed": false
   },
   "outputs": [
    {
     "name": "stdout",
     "output_type": "stream",
     "text": [
      "I_C: "
     ]
    }
   ],
   "source": [
    "# calculating the remaining values ...\n",
    "V_B = 9; V_CC = 20; R_C = 5e+3; R_E = 4e+3; β = 100; V_E = 8.3\n",
    "\n",
    "I_B = V_E / R_E / (β - 1)\n",
    "I_C = β * I_B\n",
    "V_C = V_CC - R_C * β * I_B\n",
    "\n",
    "@dispval(I_C, \"A\")\n",
    "@dispval(V_C, \"V\")\n",
    "@dispval(V_E, \"V\")"
   ]
  },
  {
   "cell_type": "markdown",
   "metadata": {},
   "source": [
    "The values are valid for the forward active region."
   ]
  },
  {
   "cell_type": "markdown",
   "metadata": {},
   "source": [
    "**6. Consider the circuit shown. Find all the node voltages and currents if $V_{CC} = 20 \\textrm{ V}$, $R_C = 5 \\textrm{ k}\\Omega$, $R_E = 4 \\textrm{ k}\\Omega$, $R_{B1} = 120 \\textrm{ k}\\Omega$, $R_{B2} = 40 \\textrm{ k}\\Omega$ and $\\beta = 100$.**\n",
    "\n",
    "<img src=\"q6.png\" />"
   ]
  },
  {
   "cell_type": "markdown",
   "metadata": {},
   "source": [
    "Assume the transistor is in the forward-active region. The procedure's mostly the same as for question 5 - without $I_S$, we require the same assumption ($V_{BE} = 0.7 \\textrm{ V}$), so just solve it with sympy:"
   ]
  },
  {
   "cell_type": "code",
   "execution_count": 5,
   "metadata": {
    "collapsed": false
   },
   "outputs": [
    {
     "data": {
      "text/html": [
       "All units are SI: "
      ],
      "text/plain": [
       "HTML{ASCIIString}(\"All units are SI: \")"
      ]
     },
     "metadata": {},
     "output_type": "display_data"
    },
    {
     "data": {
      "text/latex": [
       "\\begin{equation*}\\begin{cases}I_{C} & \\text{=>} &0.000990783410138249\\\\V_{B} & \\text{=>} &4.70276497695852\\\\V_{C} & \\text{=>} &15.0460829493088\\\\V_{E} & \\text{=>} &4.00276497695853\\\\I_{B} & \\text{=>} &9.90783410138249 \\cdot 10^{-6}\\\\\\end{cases}\\end{equation*}"
      ],
      "text/plain": [
       "Dict{SymPy.Sym,SymPy.Sym} with 5 entries:\n",
       "  I_C => 0.000990783410138249\n",
       "  V_B => 4.70276497695852\n",
       "  V_C => 15.0460829493088\n",
       "  V_E => 4.00276497695853\n",
       "  I_B => 9.90783410138249e-6"
      ]
     },
     "metadata": {},
     "output_type": "display_data"
    }
   ],
   "source": [
    "# constants / knowns\n",
    "V_CC = 20; R_C = 5e+3; R_E = 4e+3; R_B1 = 120e+3; R_B2 = 40e+3; β = 100; V_BE = 0.7\n",
    "\n",
    "# symbols:\n",
    "V_B_, V_C_, V_E_, I_B_, I_C_ = s.symbols(\"V_B V_C V_E I_B I_C\")\n",
    "\n",
    "# equations\n",
    "eqn1 = I_C_ - ( β * I_B_ )\n",
    "eqn2 = I_C_ - ( (V_CC - V_C_) / R_C )\n",
    "eqn3 = V_E_ - ( (I_B_ + I_C_) * R_E )\n",
    "eqn4 = I_B_ - ( (V_CC - V_B_) / R_B1 -  V_B_ / R_B2 )\n",
    "eqn5 = V_B_ - (V_E_ + V_BE)\n",
    "\n",
    "soln = s.solve([eqn1, eqn2, eqn3, eqn4, eqn5], [V_B_, V_C_, V_E_, I_B_, I_C_])\n",
    "\n",
    "\"All units are SI: \" |> HTML |> display\n",
    "soln |> display"
   ]
  },
  {
   "cell_type": "markdown",
   "metadata": {},
   "source": [
    "The voltages are valid for the forward active region."
   ]
  },
  {
   "cell_type": "markdown",
   "metadata": {},
   "source": [
    "**7. Consider the circuit shown. Find all the node voltages and currents if $V_{CC} = 20 \\textrm{ V}$, $R_C = 5 \\textrm{ k}\\Omega$, $R_E = 4\\textrm{ k}\\Omega$, $R_{B1} = 120\\textrm{ k}\\Omega$, $R_{B2} = 40\\textrm{ k}\\Omega$, $R_{C2} = 3\\textrm{ k}\\Omega$, $R_{E2} = 3.3\\textrm{ k}\\Omega$, and $\\beta = 100$.**\n",
    "\n",
    "<img src=\"q7.png\" />"
   ]
  },
  {
   "cell_type": "markdown",
   "metadata": {},
   "source": [
    "Assume both transistors are in the forward active region, and assume $V_{BE1} = V_{EB2} = 0.7 \\textrm{ V}$. Remember that for the second transistor, the current directions are reversed."
   ]
  },
  {
   "cell_type": "code",
   "execution_count": 6,
   "metadata": {
    "collapsed": false
   },
   "outputs": [
    {
     "data": {
      "text/html": [
       "All units are SI: "
      ],
      "text/plain": [
       "HTML{ASCIIString}(\"All units are SI: \")"
      ]
     },
     "metadata": {},
     "output_type": "display_data"
    },
    {
     "data": {
      "text/latex": [
       "\\begin{equation*}\\begin{cases}V_{C1} & \\text{=>} &15.1128140703518\\\\V_{B1} & \\text{=>} &4.7\\\\I_{B2} & \\text{=>} &1.25628140703518 \\cdot 10^{-5}\\\\V_{E2} & \\text{=>} &15.8128140703518\\\\I_{B1} & \\text{=>} &1.0 \\cdot 10^{-5}\\\\V_{C2} & \\text{=>} &3.76884422110553\\\\V_{E1} & \\text{=>} &4.0\\\\\\end{cases}\\end{equation*}"
      ],
      "text/plain": [
       "Dict{SymPy.Sym,SymPy.Sym} with 7 entries:\n",
       "  V_C1 => 15.1128140703518\n",
       "  V_B1 => 4.70000000000000\n",
       "  I_B2 => 1.25628140703518e-5\n",
       "  V_E2 => 15.8128140703518\n",
       "  I_B1 => 1.00000000000000e-5\n",
       "  V_C2 => 3.76884422110553\n",
       "  V_E1 => 4.00000000000000"
      ]
     },
     "metadata": {},
     "output_type": "display_data"
    },
    {
     "name": "stdout",
     "output_type": "stream",
     "text": [
      "0.002095959595959596 A\n",
      "V_C: 9.52020202020202 V\n",
      "V_E: 8.3 V\n"
     ]
    }
   ],
   "source": [
    "# defining constant/known values ...\n",
    "V_CC = 20; R_C = 5e+3; R_E = 4e+3; R_B1 = 120e+3; R_B2 = 40e+3; R_C2 = 3e+3; R_E2 = 3.3e+3; β = 100\n",
    "\n",
    "# our symbolic variables\n",
    "V_B1_, V_C1_, V_E1_, V_C2_, V_E2_ = s.symbols(\"V_B1 V_C1 V_E1 V_C2 V_E2\")\n",
    "\n",
    "# some intermediate values ...\n",
    "I_B1_, I_B2_ = s.symbols(\"I_B1 I_B2\")\n",
    "\n",
    "# note: V_B2 = V_C1\n",
    "\n",
    "# EQUATIONS\n",
    "eqns = Array{s.Sym, 1}()\n",
    "# nodal analysis at B1: \n",
    "push!(eqns, (V_CC - V_B1_) / R_B1 - (V_B1_ / R_B2 + I_B1_))\n",
    "# T1 current relation:\n",
    "push!(eqns,(V_CC - V_C1_) / R_C - (-I_B2_ + (β - 1) * I_B1_))\n",
    "# nodal analysis at E1:\n",
    "push!(eqns, V_E1_ / R_E - (I_B1_ + (V_CC - V_C1_) / R_C + I_B2_))\n",
    "# T2 current relation:\n",
    "push!(eqns, V_C2_ / R_C2 - β * I_B2_)\n",
    "# nodal analysis at E2:\n",
    "push!(eqns, (V_CC - V_E2_) / R_E2 - (I_B2_ + β * I_B2_))\n",
    "\n",
    "# V_BE = 0.7 relationship for T1\n",
    "push!(eqns, V_B1_ - (V_E1_ + 0.7))\n",
    "# V_EB = 0.7 relationship for T2\n",
    "push!(eqns, V_E2_ - (V_C1_ + 0.7))\n",
    "\n",
    "# display all our equations (uncomment below)\n",
    "#\"The equations we're solving: \" |> HTML |> display\n",
    "#for eqn in eqns dispeqn(eqn) end\n",
    "\n",
    "soln = s.solve(eqns, [V_B1_, V_C1_, V_E1_, V_C2_, V_E2_, I_B1_, I_B2_])\n",
    "\n",
    "\"All units are SI: \" |> HTML |> display\n",
    "soln |> display"
   ]
  },
  {
   "cell_type": "markdown",
   "metadata": {},
   "source": [
    "The voltages are valid for both transistors being in the forward active region. "
   ]
  },
  {
   "cell_type": "markdown",
   "metadata": {},
   "source": [
    "**8. For the common-emitter amplifier below, design the bias network to obtain an emitter current of $1.5 \\textrm{ mA}$. Assume the supply voltage is $5 \\textrm{ V}$ and $\\beta = 100$.**\n",
    "\n",
    "<img src=\"q8.png\" />"
   ]
  },
  {
   "cell_type": "markdown",
   "metadata": {},
   "source": [
    "Because it's an amplifier, it has to be in the forward-active region, so set $V_{BE} = 0.7\\textrm{ V}$. Then solve the equations:"
   ]
  },
  {
   "cell_type": "code",
   "execution_count": 7,
   "metadata": {
    "collapsed": false,
    "scrolled": false
   },
   "outputs": [
    {
     "data": {
      "text/html": [
       "Our equations are: "
      ],
      "text/plain": [
       "HTML{ASCIIString}(\"Our equations are: \")"
      ]
     },
     "metadata": {},
     "output_type": "display_data"
    },
    {
     "data": {
      "text/latex": [
       "$$-0.0015 + \\frac{V_{E}}{R_{E}} = 0$$"
      ],
      "text/plain": [
       "          V_E    \n",
       "-0.0015 + ─── = 0\n",
       "          R_E    "
      ]
     },
     "metadata": {},
     "output_type": "display_data"
    },
    {
     "data": {
      "text/latex": [
       "$$V_{B} - V_{E} - 0.7 = 0$$"
      ],
      "text/plain": [
       "V_B - V_E - 0.7 = 0"
      ]
     },
     "metadata": {},
     "output_type": "display_data"
    },
    {
     "data": {
      "text/latex": [
       "$$- I_{B} - \\frac{V_{B}}{R_{B2}} + \\frac{1}{R_{B1}} \\left(- V_{B} + 5\\right) = 0$$"
      ],
      "text/plain": [
       "       V_B    -V_B + 5    \n",
       "-I_B - ──── + ──────── = 0\n",
       "       R_B2     R_B1      "
      ]
     },
     "metadata": {},
     "output_type": "display_data"
    },
    {
     "data": {
      "text/latex": [
       "$$I_{C} - \\frac{1}{R_{C}} \\left(- V_{C} + 5\\right) = 0$$"
      ],
      "text/plain": [
       "      -V_C + 5    \n",
       "I_C - ──────── = 0\n",
       "        R_C       "
      ]
     },
     "metadata": {},
     "output_type": "display_data"
    },
    {
     "data": {
      "text/latex": [
       "$$- 100 I_{B} + I_{C} = 0$$"
      ],
      "text/plain": [
       "-100⋅I_B + I_C = 0"
      ]
     },
     "metadata": {},
     "output_type": "display_data"
    },
    {
     "data": {
      "text/latex": [
       "$$- I_{B} - I_{C} + 0.0015 = 0$$"
      ],
      "text/plain": [
       "-I_B - I_C + 0.0015 = 0"
      ]
     },
     "metadata": {},
     "output_type": "display_data"
    },
    {
     "data": {
      "text/html": [
       "All units in SI: "
      ],
      "text/plain": [
       "HTML{ASCIIString}(\"All units in SI: \")"
      ]
     },
     "metadata": {},
     "output_type": "display_data"
    },
    {
     "data": {
      "text/latex": [
       "\\begin{equation*}\\begin{cases}I_{C} & \\text{=>} &0.00148514851485149\\\\V_{B} & \\text{=>} &- \\frac{R_{B2} \\left(3.0 R_{B1} - 1010000.0\\right)}{202000.0 R_{B1} + 202000.0 R_{B2}}\\\\V_{C} & \\text{=>} &- 0.00148514851485149 R_{C} + 5.0\\\\V_{E} & \\text{=>} &\\frac{1}{R_{B1} + R_{B2}} \\left(- 1.48514851485149 \\cdot 10^{-5} R_{B1} R_{B2} - 0.7 R_{B1} + 4.3 R_{B2}\\right)\\\\R_{E} & \\text{=>} &\\frac{1}{R_{B1} + R_{B2}} \\left(- 0.0099009900990099 R_{B1} R_{B2} - 466.666666666667 R_{B1} + 2866.66666666667 R_{B2}\\right)\\\\I_{B} & \\text{=>} &1.48514851485149 \\cdot 10^{-5}\\\\\\end{cases}\\end{equation*}"
      ],
      "text/plain": [
       "Dict{SymPy.Sym,SymPy.Sym} with 6 entries:\n",
       "  I_C => 0.00148514851485149\n",
       "  V_B => -R_B2*(3.0*R_B1 - 1010000.0)/(202000.0*R_B1 + 202000.0*R_B2)\n",
       "  V_C => -0.00148514851485149*R_C + 5.0\n",
       "  V_E => 4.95049504950495e-6*(-3.0*R_B1*R_B2 - 141400.0*R_B1 + 868600.0*R_B2)/(…\n",
       "  R_E => 0.0033003300330033*(-3.0*R_B1*R_B2 - 141400.0*R_B1 + 868600.0*R_B2)/(R…\n",
       "  I_B => 1.48514851485149e-5"
      ]
     },
     "metadata": {},
     "output_type": "display_data"
    }
   ],
   "source": [
    "# constant/known values\n",
    "I_E = 1.5e-3; V_CC = 5; β = 100; V_BE = 0.7\n",
    "\n",
    "# symbolic variables\n",
    "V_B_, V_C_, V_E_, I_B_, I_C_ = s.symbols(\"V_B V_C V_E I_B I_C\")\n",
    "\n",
    "# symbols for resistors that we have to choose\n",
    "R_B1_, R_B2_, R_C_, R_E_ = s.symbols(\"R_B1 R_B2 R_C R_E\")\n",
    "\n",
    "# equations\n",
    "eqns = Array{s.Sym, 1}()\n",
    "#  reverse definition of I_E:\n",
    "push!(eqns, V_E_ / R_E_ - I_E)\n",
    "# V_BE = 0.7:\n",
    "push!(eqns, V_B_ - (V_E_ + V_BE))\n",
    "# nodal analysis at B:\n",
    "push!(eqns, (V_CC - V_B_) / R_B1_ - (I_B_ + V_B_ / R_B2_))\n",
    "# definition of I_C:\n",
    "push!(eqns, I_C_ - (V_CC - V_C_) / R_C_)\n",
    "# forward-active current relation:\n",
    "push!(eqns, I_C_ - (β * I_B_))\n",
    "# current sum over transistor:\n",
    "push!(eqns, I_E - (I_B_ + I_C_))\n",
    "\n",
    "\"Our equations are: \" |> HTML |> display\n",
    "for eqn in eqns dispeqn(eqn) end\n",
    "\n",
    "# now, satisfy the above equations by choosing the first symbols, and also R_E_\n",
    "soln = s.solve(eqns, [V_B_, V_C_, V_E_, I_B_, I_C_, R_E_])\n",
    "\n",
    "\"All units in SI: \" |> HTML |> display\n",
    "soln |> display"
   ]
  },
  {
   "cell_type": "markdown",
   "metadata": {},
   "source": [
    "$I_C$ and $I_B$ are independent of the remaining unknowns ($R_C$, $R_{B1}$ and $R_{B2}$). Also, $R_E$, $V_E$ and $V_B$ are parameterised by only $R_{B1}$ and $R_{B2}$, and $V_C$ is parameterised only by $R_C$. For forward-active operation, $V_C > V_B > V_E > 0$ is required. \n",
    "\n",
    "Try $R_{B1} = 2\\textrm{ k}\\Omega$, $R_{B2} = 1\\textrm{ k}\\Omega$, and $R_C = 200 \\: \\Omega$."
   ]
  },
  {
   "cell_type": "code",
   "execution_count": 8,
   "metadata": {
    "collapsed": false
   },
   "outputs": [
    {
     "data": {
      "text/latex": [
       "\\begin{equation*}\\begin{cases}I_{C} & \\text{=>} &0.00148514851485149\\\\V_{B} & \\text{=>} &1.65676567656766\\\\V_{C} & \\text{=>} &4.7029702970297\\\\V_{E} & \\text{=>} &0.956765676567657\\\\R_{E} & \\text{=>} &637.843784378438\\\\I_{B} & \\text{=>} &1.48514851485149 \\cdot 10^{-5}\\\\\\end{cases}\\end{equation*}"
      ],
      "text/plain": [
       "Dict{SymPy.Sym,SymPy.Sym} with 6 entries:\n",
       "  I_C => 0.00148514851485149\n",
       "  V_B => 1.65676567656766\n",
       "  V_C => 4.70297029702970\n",
       "  V_E => 0.956765676567657\n",
       "  R_E => 637.843784378438\n",
       "  I_B => 1.48514851485149e-5"
      ]
     },
     "metadata": {},
     "output_type": "display_data"
    }
   ],
   "source": [
    "soln2 = Dict{s.Sym, s.Sym}\n",
    "\n",
    "for sym in keys(soln)\n",
    "    soln[sym] = s.subs(soln[sym], R_B1_=>2e+3, R_B2_=>1e+3, R_C_=>200)\n",
    "end\n",
    "\n",
    "#s.subs(soln[R_E_], R_B1_=>1e+3, R_B2_=>1e+3)\n",
    "#soln2[V_E_] = s.subs(soln[V_E_], R_B1_=>1e+3, R_B2_=>1e+3)\n",
    "#soln2[V_B_] = s.subs(soln[V_B_], R_B1_=>1e+3, R_B2_=>1e+3)\n",
    "#soln2[V_C_] = s.subs(soln[V_C_], R_C_=>200)\n",
    "\n",
    "display(soln)"
   ]
  },
  {
   "cell_type": "markdown",
   "metadata": {},
   "source": [
    "The above voltages and currents are valid for NPN forward-active operation. There's a wide variety of resistor values that could've been chosen, but we weren't given any optimization target. (io impedance, power consumption, etc)"
   ]
  },
  {
   "cell_type": "markdown",
   "metadata": {},
   "source": [
    "**9. Design the circuit below in Figure 8 to have an emitter current of $2 \\textrm{ mA}$ and signal swing of $\\pm2.5\\textrm{ V}$. Use a supply voltage of $15 \\textrm{ V}$ and $\\beta = 100$. What is the effect of reducing the supply voltage to $10\\textrm{ V}$?**\n",
    "\n",
    "<img src=\"q9.png\" />"
   ]
  },
  {
   "cell_type": "markdown",
   "metadata": {},
   "source": [
    "Do nodal analysis with the forward-active assumptions:\n",
    "\n",
    "$$ I_C = \\beta I_B \\implies \\frac {V_{CC} - V_C} {R_C} = (\\beta + 1) \\frac {V_C - V_B} {R_B} $$\n",
    "\n",
    "The emitter current assumption:\n",
    "\n",
    "$$ \\frac {V_{CC} - V_C} {R_C} = 0.002 \\implies V_C = V_{CC} - 0.002 R_C $$\n",
    "\n",
    "Also, assuming forward active operation, $V_B = 0.7 \\textrm{ V}$. So:\n",
    "\n",
    "$$ 0.002 = (\\beta + 1) \\frac {V_{CC} - 0.002 R_C - 0.7} {R_B} $$"
   ]
  },
  {
   "cell_type": "markdown",
   "metadata": {},
   "source": [
    "We're not given any input/output terminals so assume the swing is on the supply voltage. The goal is then to make sure the BJT is in foward-active mode for supply voltages between 12.5 V and 17.5 V.\n",
    "\n",
    "So calculate the values for both $V_{CC} = 12.5 \\textrm{ V}$ and $V_{CC} = 17.5 \\textrm{ V}$ (this only works because everything here is injective):"
   ]
  },
  {
   "cell_type": "code",
   "execution_count": null,
   "metadata": {
    "collapsed": true
   },
   "outputs": [],
   "source": []
  },
  {
   "cell_type": "markdown",
   "metadata": {},
   "source": [
    "**10. Design a circuit to establish a DC drain current $I_D = 0.5 \\textrm{ mA}$. Assume that $V_{th} = 1 \\textrm{ V}$, $k_n'W/L = 1 \\textrm{ mA V}^{-2}$, $\\lambda = 0$, $V_{DD} = 15 \\textrm{ V}$. How does $I_D$ change with varying $V_{th}$?**"
   ]
  },
  {
   "cell_type": "markdown",
   "metadata": {},
   "source": [
    "Solve the equations:"
   ]
  },
  {
   "cell_type": "code",
   "execution_count": 36,
   "metadata": {
    "collapsed": false
   },
   "outputs": [
    {
     "data": {
      "text/latex": [
       "$$I_{D} - \\frac{1}{R_{D}} \\left(- V_{D} + 15\\right) = 0$$"
      ],
      "text/plain": [
       "      -V_D + 15    \n",
       "I_D - ───────── = 0\n",
       "         R_D       "
      ]
     },
     "metadata": {},
     "output_type": "display_data"
    },
    {
     "data": {
      "text/latex": [
       "$$I_{D} - \\frac{V_{S}}{R_{S}} = 0$$"
      ],
      "text/plain": [
       "      V_S    \n",
       "I_D - ─── = 0\n",
       "      R_S    "
      ]
     },
     "metadata": {},
     "output_type": "display_data"
    },
    {
     "data": {
      "text/latex": [
       "$$I_{D} - 0.0005 \\left(V_{G} - V_{S} - V_{th}\\right)^{2} = 0$$"
      ],
      "text/plain": [
       "                                  2    \n",
       "I_D - - -0.0005⋅(V_G - V_S - V_th)  = 0"
      ]
     },
     "metadata": {},
     "output_type": "display_data"
    },
    {
     "data": {
      "text/latex": [
       "$$- \\frac{V_{G}}{R_{G2}} + \\frac{1}{R_{G1}} \\left(- V_{G} + 15\\right) = 0$$"
      ],
      "text/plain": [
       "  V_G    -V_G + 15    \n",
       "- ──── + ───────── = 0\n",
       "  R_G2      R_G1      "
      ]
     },
     "metadata": {},
     "output_type": "display_data"
    },
    {
     "data": {
      "text/latex": [
       "$$I_{D} - 0.0005 = 0$$"
      ],
      "text/plain": [
       "I_D - 0.0005 = 0"
      ]
     },
     "metadata": {},
     "output_type": "display_data"
    },
    {
     "data": {
      "text/latex": [
       "$$V_{th} - 1.0 = 0$$"
      ],
      "text/plain": [
       "V_th - 1.0 = 0"
      ]
     },
     "metadata": {},
     "output_type": "display_data"
    },
    {
     "data": {
      "text/html": [
       "Solution 1: "
      ],
      "text/plain": [
       "HTML{ASCIIString}(\"Solution 1: \")"
      ]
     },
     "metadata": {},
     "output_type": "display_data"
    },
    {
     "data": {
      "text/latex": [
       "\\begin{equation*}\\begin{cases}V_{G} & \\text{=>} &\\frac{15.0 R_{G2}}{R_{G1} + R_{G2}}\\\\V_{S} & \\text{=>} &\\frac{1}{R_{G1}^{2} + 2.0 R_{G1} R_{G2} + R_{G2}^{2}} \\left(- R_{G1}^{2} + 13.0 R_{G1} R_{G2} + 14.0 R_{G2}^{2} - \\sqrt{R_{G1}^{4} + 4.0 R_{G1}^{3} R_{G2} + 6.0 R_{G1}^{2} R_{G2}^{2} + 4.0 R_{G1} R_{G2}^{3} + R_{G2}^{4}}\\right)\\\\I_{D} & \\text{=>} &0.0005\\\\V_{D} & \\text{=>} &- 0.0005 R_{D} + 15.0\\\\V_{th} & \\text{=>} &1.0\\\\R_{S} & \\text{=>} &\\frac{1}{\\left(R_{G1} + R_{G2}\\right) \\left(R_{G1}^{2} + 2.0 R_{G1} R_{G2} + R_{G2}^{2}\\right)} \\left(2000.0 \\left(- R_{G1} + 14.0 R_{G2}\\right) \\left(R_{G1}^{2} + 2.0 R_{G1} R_{G2} + R_{G2}^{2}\\right) - 2000.0 \\left(R_{G1} + R_{G2}\\right) \\sqrt{\\left(R_{G1} + R_{G2}\\right)^{4}}\\right)\\\\\\end{cases}\\end{equation*}"
      ],
      "text/plain": [
       "Dict{SymPy.Sym,SymPy.Sym} with 6 entries:\n",
       "  V_G  => 15.0*R_G2/(R_G1 + R_G2)\n",
       "  V_S  => (-R_G1^2 + 13.0*R_G1*R_G2 + 14.0*R_G2^2 - sqrt(R_G1^4 + 4.0*R_G1^3*R_…\n",
       "  I_D  => 0.000500000000000000\n",
       "  V_D  => -0.0005*R_D + 15.0\n",
       "  V_th => 1.00000000000000\n",
       "  R_S  => 2000.0*((-R_G1 + 14.0*R_G2)*(R_G1^2 + 2.0*R_G1*R_G2 + R_G2^2) - (R_G1…"
      ]
     },
     "metadata": {},
     "output_type": "display_data"
    },
    {
     "data": {
      "text/html": [
       "Solution 2: "
      ],
      "text/plain": [
       "HTML{ASCIIString}(\"Solution 2: \")"
      ]
     },
     "metadata": {},
     "output_type": "display_data"
    },
    {
     "data": {
      "text/latex": [
       "\\begin{equation*}\\begin{cases}V_{G} & \\text{=>} &\\frac{15.0 R_{G2}}{R_{G1} + R_{G2}}\\\\V_{S} & \\text{=>} &\\frac{1}{R_{G1}^{2} + 2.0 R_{G1} R_{G2} + R_{G2}^{2}} \\left(- R_{G1}^{2} + 13.0 R_{G1} R_{G2} + 14.0 R_{G2}^{2} + \\sqrt{R_{G1}^{4} + 4.0 R_{G1}^{3} R_{G2} + 6.0 R_{G1}^{2} R_{G2}^{2} + 4.0 R_{G1} R_{G2}^{3} + R_{G2}^{4}}\\right)\\\\I_{D} & \\text{=>} &0.0005\\\\V_{D} & \\text{=>} &- 0.0005 R_{D} + 15.0\\\\V_{th} & \\text{=>} &1.0\\\\R_{S} & \\text{=>} &\\frac{1}{\\left(R_{G1} + R_{G2}\\right) \\left(R_{G1}^{2} + 2.0 R_{G1} R_{G2} + R_{G2}^{2}\\right)} \\left(2000.0 \\left(- R_{G1} + 14.0 R_{G2}\\right) \\left(R_{G1}^{2} + 2.0 R_{G1} R_{G2} + R_{G2}^{2}\\right) + 2000.0 \\left(R_{G1} + R_{G2}\\right) \\sqrt{\\left(R_{G1} + R_{G2}\\right)^{4}}\\right)\\\\\\end{cases}\\end{equation*}"
      ],
      "text/plain": [
       "Dict{SymPy.Sym,SymPy.Sym} with 6 entries:\n",
       "  V_G  => 15.0*R_G2/(R_G1 + R_G2)\n",
       "  V_S  => (-R_G1^2 + 13.0*R_G1*R_G2 + 14.0*R_G2^2 + sqrt(R_G1^4 + 4.0*R_G1^3*R_…\n",
       "  I_D  => 0.000500000000000000\n",
       "  V_D  => -0.0005*R_D + 15.0\n",
       "  V_th => 1.00000000000000\n",
       "  R_S  => 2000.0*((-R_G1 + 14.0*R_G2)*(R_G1^2 + 2.0*R_G1*R_G2 + R_G2^2) + (R_G1…"
      ]
     },
     "metadata": {},
     "output_type": "display_data"
    }
   ],
   "source": [
    "# constants:\n",
    "knWL = 1e-3 # A V^-2\n",
    "λ = 0\n",
    "V_DD = 15\n",
    "\n",
    "# (not setting I_D as constant to get an expression for it)\n",
    "\n",
    "# symbols:\n",
    "I_D_, V_D_, V_G_, V_S_, V_th_ = s.symbols(\"I_D V_D V_G V_S V_th\")\n",
    "\n",
    "# resistor symbols\n",
    "R_D_, R_S_, R_G1_, R_G2_ = s.symbols(\"R_D R_S R_G1 R_G2\")\n",
    "\n",
    "# equations:\n",
    "eqns = Array{s.Sym, 1}()\n",
    "push!(eqns, I_D_ - (V_DD - V_D_) / R_D_)\n",
    "push!(eqns, I_D_ - V_S_ / R_S_)\n",
    "push!(eqns, I_D_ - (0.5 * knWL * (V_G_ - V_S_ - V_th_)^2))\n",
    "push!(eqns, (V_DD - V_G_) / R_G1_ - V_G_ / R_G2_)\n",
    "push!(eqns, I_D_ - 0.5e-3)\n",
    "push!(eqns, V_th_ - 1.)\n",
    "\n",
    "# display the equations\n",
    "for eqn in eqns dispeqn(eqn) end\n",
    "\n",
    "# the mosfet needs to be in the saturation region (where the current equation used applies)\n",
    "\n",
    "# we have four equations, so solve for I_D_ and the voltages\n",
    "# soln = s.solve(eqns, [I_D_, V_D_, V_G_, V_S_])\n",
    "# turns out that the above is a rediculously complicated expression, so fix I_D and V_th first to find the resistors\n",
    "\n",
    "soln = s.solve(eqns, [I_D_, V_D_, V_G_, V_S_, R_S_, V_th_])\n",
    "\n",
    "# two solutions:\n",
    "\"Solution 1: \" |> HTML |> display\n",
    "soln[1] |> display\n",
    "\"Solution 2: \" |> HTML |> display\n",
    "soln[2] |> display"
   ]
  },
  {
   "cell_type": "markdown",
   "metadata": {},
   "source": [
    "Only one of the above solutions is going to be true - since we're choosing the resistors just go with the first one. The conditions to be in the saturation region are "
   ]
  },
  {
   "cell_type": "code",
   "execution_count": null,
   "metadata": {
    "collapsed": true
   },
   "outputs": [],
   "source": [
    "soln = soln[1]\n",
    "\n"
   ]
  }
 ],
 "metadata": {
  "kernelspec": {
   "display_name": "Julia 0.4.4-pre",
   "language": "julia",
   "name": "julia-0.4"
  },
  "language_info": {
   "file_extension": ".jl",
   "mimetype": "application/julia",
   "name": "julia",
   "version": "0.4.4"
  }
 },
 "nbformat": 4,
 "nbformat_minor": 0
}
